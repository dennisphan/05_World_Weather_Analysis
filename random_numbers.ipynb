{
 "cells": [
  {
   "cell_type": "code",
   "execution_count": 1,
   "id": "0012bc4e",
   "metadata": {},
   "outputs": [],
   "source": [
    "# Import the random module.\n",
    "import random"
   ]
  },
  {
   "cell_type": "code",
   "execution_count": 9,
   "id": "322535e8",
   "metadata": {},
   "outputs": [
    {
     "data": {
      "text/plain": [
       "-19"
      ]
     },
     "execution_count": 9,
     "metadata": {},
     "output_type": "execute_result"
    }
   ],
   "source": [
    "random.randint(-90, 90)"
   ]
  },
  {
   "cell_type": "code",
   "execution_count": 10,
   "id": "3d285399",
   "metadata": {},
   "outputs": [
    {
     "data": {
      "text/plain": [
       "0.9895653722349419"
      ]
     },
     "execution_count": 10,
     "metadata": {},
     "output_type": "execute_result"
    }
   ],
   "source": [
    "random.random()"
   ]
  },
  {
   "cell_type": "code",
   "execution_count": 12,
   "id": "85321e4a",
   "metadata": {},
   "outputs": [
    {
     "data": {
      "text/plain": [
       "[70.95713033657704,\n",
       " 16.37748669425052,\n",
       " 38.66352149339494,\n",
       " 5.320015755242182,\n",
       " 23.87975978354552,\n",
       " -56.5493768568026,\n",
       " -74.87947206827889,\n",
       " 87.80101943888126,\n",
       " -74.34983890356678,\n",
       " 19.335646416627544]"
      ]
     },
     "execution_count": 12,
     "metadata": {},
     "output_type": "execute_result"
    }
   ],
   "source": [
    "x = 1\n",
    "latitudes = []\n",
    "while x < 11:\n",
    "    random_lat = random.randint(-90, 89) + random.random()\n",
    "    latitudes.append(random_lat)\n",
    "    x += 1\n",
    "latitudes"
   ]
  },
  {
   "cell_type": "code",
   "execution_count": 13,
   "id": "e83d4e18",
   "metadata": {},
   "outputs": [],
   "source": [
    "# Import the NumPy module.\n",
    "import numpy as np"
   ]
  },
  {
   "cell_type": "code",
   "execution_count": 15,
   "id": "fe638960",
   "metadata": {},
   "outputs": [
    {
     "data": {
      "text/plain": [
       "array([-67.8400337 ,  32.34471977,  62.01268923, -42.25826408,\n",
       "        65.75509009,  -9.89748705,  30.4135627 , -11.72505484,\n",
       "        -0.63596158, -60.04554766,  47.27180737,  24.52604398,\n",
       "        87.67732236,  61.95153427,  50.01913093,  13.00471583,\n",
       "       -22.1708061 ,  87.33579056,  -9.0067597 , -76.69691747,\n",
       "        28.42579898,   5.88243587, -16.50772314, -49.8658833 ,\n",
       "        -4.37967593, -51.70383661,  87.55689691, -86.87813372,\n",
       "       -81.43420568,  70.48894522, -31.44847297,   8.98005142,\n",
       "         8.49459882,  83.45648244, -48.16464577,   2.36543725,\n",
       "       -38.73035812, -14.54618839,  88.07023838,  27.3037148 ,\n",
       "        87.42761946,  36.60451394,  -0.82145403, -54.57013688,\n",
       "         1.02449716,  24.75141994, -41.09194064,  58.45142505,\n",
       "       -85.77009494,  27.12490189])"
      ]
     },
     "execution_count": 15,
     "metadata": {},
     "output_type": "execute_result"
    }
   ],
   "source": [
    "np.random.uniform(-90.000, 90.000, size=50)"
   ]
  },
  {
   "cell_type": "code",
   "execution_count": 16,
   "id": "c70b2a1c",
   "metadata": {},
   "outputs": [],
   "source": [
    "# Import timeit.\n",
    "import timeit"
   ]
  },
  {
   "cell_type": "code",
   "execution_count": 17,
   "id": "740a8d5d",
   "metadata": {},
   "outputs": [
    {
     "name": "stdout",
     "output_type": "stream",
     "text": [
      "13.3 µs ± 245 ns per loop (mean ± std. dev. of 7 runs, 100000 loops each)\n"
     ]
    }
   ],
   "source": [
    "%timeit np.random.uniform(-90.000, 90.000, size=1500)"
   ]
  },
  {
   "cell_type": "code",
   "execution_count": 21,
   "id": "11002b38",
   "metadata": {},
   "outputs": [
    {
     "name": "stdout",
     "output_type": "stream",
     "text": [
      "1.53 ms ± 28.1 µs per loop (mean ± std. dev. of 7 runs, 1000 loops each)\n"
     ]
    }
   ],
   "source": [
    "def latitudes(size):\n",
    "    latitudes = []\n",
    "    x = 0\n",
    "    while x < (size):\n",
    "        random_lat = random.randint(-90, 90) + random.random()\n",
    "        latitudes.append(random_lat)\n",
    "        x += 1\n",
    "    return latitudes\n",
    "# Call the function with 1500.\n",
    "%timeit latitudes(1500)"
   ]
  },
  {
   "cell_type": "code",
   "execution_count": 1,
   "id": "43b990fa",
   "metadata": {},
   "outputs": [
    {
     "data": {
      "text/plain": [
       "'2.25.1'"
      ]
     },
     "execution_count": 1,
     "metadata": {},
     "output_type": "execute_result"
    }
   ],
   "source": [
    "import requests\n",
    "requests.__version__"
   ]
  },
  {
   "cell_type": "code",
   "execution_count": null,
   "id": "65c34acc",
   "metadata": {},
   "outputs": [],
   "source": []
  },
  {
   "cell_type": "code",
   "execution_count": null,
   "id": "91769d45",
   "metadata": {},
   "outputs": [],
   "source": []
  }
 ],
 "metadata": {
  "kernelspec": {
   "display_name": "PythonData",
   "language": "python",
   "name": "pythondata"
  },
  "language_info": {
   "codemirror_mode": {
    "name": "ipython",
    "version": 3
   },
   "file_extension": ".py",
   "mimetype": "text/x-python",
   "name": "python",
   "nbconvert_exporter": "python",
   "pygments_lexer": "ipython3",
   "version": "3.8.8"
  }
 },
 "nbformat": 4,
 "nbformat_minor": 5
}
